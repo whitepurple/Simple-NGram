{
 "metadata": {
  "language_info": {
   "codemirror_mode": {
    "name": "ipython",
    "version": 3
   },
   "file_extension": ".py",
   "mimetype": "text/x-python",
   "name": "python",
   "nbconvert_exporter": "python",
   "pygments_lexer": "ipython3",
   "version": "3.8.5-final"
  },
  "orig_nbformat": 2,
  "kernelspec": {
   "name": "python3",
   "display_name": "Python 3.8.5 64-bit ('myvenv')",
   "metadata": {
    "interpreter": {
     "hash": "85edbabd1bcefc1b8a34c7324f08dd41ccdbde9cc72f6f47ec9567dadd19df41"
    }
   }
  }
 },
 "nbformat": 4,
 "nbformat_minor": 2,
 "cells": [
  {
   "cell_type": "code",
   "execution_count": 1,
   "metadata": {},
   "outputs": [
    {
     "output_type": "stream",
     "name": "stdout",
     "text": [
      "data/AAAI\ndata/ACL\ndata/EMNLP\ndata/NeurIPS\n"
     ]
    }
   ],
   "source": [
    "from pathlib import Path\n",
    "\n",
    "datapath = './data'\n",
    "\n",
    "p = Path(datapath)\n",
    "\n",
    "for child in p.iterdir(): \n",
    "    print(child.as_posix())"
   ]
  },
  {
   "cell_type": "code",
   "execution_count": 2,
   "metadata": {},
   "outputs": [
    {
     "output_type": "execute_result",
     "data": {
      "text/plain": [
       "['data/ACL/acl2020_long.txt',\n",
       " 'data/ACL/acl2020_short.txt',\n",
       " 'data/EMNLP/emnlp2020_long.txt',\n",
       " 'data/EMNLP/emnlp2020_short.txt']"
      ]
     },
     "metadata": {},
     "execution_count": 2
    }
   ],
   "source": [
    "confpaths = ['data/ACL','data/EMNLP']\n",
    "\n",
    "titlepaths = []\n",
    "\n",
    "for conf in confpaths:\n",
    "    p = Path(conf)\n",
    "    for child in p.iterdir(): \n",
    "        titlepaths.append(child.as_posix())\n",
    "\n",
    "titlepaths\n"
   ]
  },
  {
   "cell_type": "code",
   "execution_count": 3,
   "metadata": {},
   "outputs": [
    {
     "output_type": "stream",
     "name": "stdout",
     "text": [
      "1529 lines loaded from\n['data/ACL/acl2020_long.txt',\n 'data/ACL/acl2020_short.txt',\n 'data/EMNLP/emnlp2020_long.txt',\n 'data/EMNLP/emnlp2020_short.txt']\n"
     ]
    },
    {
     "output_type": "execute_result",
     "data": {
      "text/plain": [
       "[('machine translation', 84),\n",
       " ('language models', 61),\n",
       " ('neural machine', 59),\n",
       " ('natural language', 52),\n",
       " ('question answering', 50),\n",
       " ('cross lingual', 41),\n",
       " ('text generation', 36),\n",
       " ('model for', 32),\n",
       " ('for neural', 32),\n",
       " ('learning for', 32)]"
      ]
     },
     "metadata": {},
     "execution_count": 3
    }
   ],
   "source": [
    "from NGram import NGram\n",
    "\n",
    "bigram = NGram(titlepaths,2)\n",
    "\n",
    "bigram.gram_freq_sorted[:10]"
   ]
  },
  {
   "cell_type": "code",
   "execution_count": 4,
   "metadata": {},
   "outputs": [
    {
     "output_type": "execute_result",
     "data": {
      "text/plain": [
       "['A Novel Graph-based Multi-modal Fusion Encoder for Neural Machine Translation',\n",
       " 'A Reinforced Generation of Adversarial Examples for Neural Machine Translation',\n",
       " 'Addressing Posterior Collapse with Mutual Information for Improved Variational Neural Machine Translation']"
      ]
     },
     "metadata": {},
     "execution_count": 4
    }
   ],
   "source": [
    "bigram.showTitles('machine translation')[:3]"
   ]
  },
  {
   "cell_type": "code",
   "execution_count": 5,
   "metadata": {},
   "outputs": [
    {
     "output_type": "stream",
     "name": "stdout",
     "text": [
      "570 lines loaded from\n['data/ACL/acl2020_long.txt']\n208 lines loaded from\n['data/ACL/acl2020_short.txt']\n601 lines loaded from\n['data/EMNLP/emnlp2020_long.txt']\n150 lines loaded from\n['data/EMNLP/emnlp2020_short.txt']\n\ngram\ttotal\t0\t1\t2\t3\nmachine translation\t84\t31\t21\t26\t6\nlanguage models\t61\t20\t10\t23\t8\nneural machine\t59\t26\t12\t17\t4\nnatural language\t52\t29\t4\t17\t2\nquestion answering\t50\t19\t4\t23\t4\ncross lingual\t41\t15\t4\t19\t3\ntext generation\t36\t11\t5\t18\t2\nmodel for\t32\t15\t3\t10\t4\nfor neural\t32\t18\t1\t12\t1\nlearning for\t32\t10\t6\t13\t3\n"
     ]
    }
   ],
   "source": [
    "ngramlist = [NGram([path],2) for path in titlepaths]\n",
    "\n",
    "NGram.stat(ngramlist)"
   ]
  }
 ]
}