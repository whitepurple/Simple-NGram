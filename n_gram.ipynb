{
 "metadata": {
  "language_info": {
   "codemirror_mode": {
    "name": "ipython",
    "version": 3
   },
   "file_extension": ".py",
   "mimetype": "text/x-python",
   "name": "python",
   "nbconvert_exporter": "python",
   "pygments_lexer": "ipython3",
   "version": "3.7.7-final"
  },
  "orig_nbformat": 2,
  "kernelspec": {
   "name": "Python 3.7.7 64-bit ('testenv': conda)",
   "display_name": "Python 3.7.7 64-bit ('testenv': conda)",
   "metadata": {
    "interpreter": {
     "hash": "d18d9c06f969fa1bf37aba51bedfadee702abe51ef9f33279d3aa65135c0717d"
    }
   }
  }
 },
 "nbformat": 4,
 "nbformat_minor": 2,
 "cells": [
  {
   "cell_type": "code",
   "execution_count": 1,
   "metadata": {
    "tags": []
   },
   "outputs": [],
   "source": [
    "acl2020_long = open(\"acl2020_long.txt\", 'rt', encoding='UTF8')\n",
    "acl2020_short = open(\"acl2020_short.txt\", 'rt', encoding='UTF8')\n",
    "emnlp2020_long = open(\"emnlp2020_long.txt\", 'rt', encoding='UTF8')\n",
    "emnlp2020_short = open(\"emnlp2020_short.txt\", 'rt', encoding='UTF8')\n",
    "\n",
    "acl_long = acl2020_long.read()\n",
    "acl_short = acl2020_short.read()\n",
    "emnlp_short = emnlp2020_long.read()\n",
    "emnlp_long = emnlp2020_short.read()\n",
    "\n",
    "acl2020_long.close() \n",
    "acl2020_short.close()\n",
    "emnlp2020_long.close()\n",
    "emnlp2020_short.close()\n",
    "\n",
    "acl_long_list = acl_long.split('\\n')\n",
    "acl_short_list = acl_short.split('\\n')\n",
    "emnlp_long_list = emnlp_long.split('\\n')\n",
    "emnlp_short_list = emnlp_short.split('\\n')\n",
    "\n",
    "acl_list = acl_long_list + acl_short_list\n",
    "emnlp_list = emnlp_long_list + emnlp_short_list\n",
    "\n",
    "paper_2020_list = acl_list + emnlp_list\n"
   ]
  },
  {
   "cell_type": "code",
   "execution_count": 2,
   "metadata": {},
   "outputs": [
    {
     "output_type": "execute_result",
     "data": {
      "text/plain": "[(&#39;machine translation&#39;, 83),\n (&#39;neural machine&#39;, 59),\n (&#39;language models&#39;, 59),\n (&#39;natural language&#39;, 50),\n (&#39;question answering&#39;, 46),\n (&#39;for neural&#39;, 32),\n (&#39;learning to&#39;, 32),\n (&#39;model for&#39;, 31),\n (&#39;learning for&#39;, 30),\n (&#39;text classification&#39;, 24)]"
     },
     "metadata": {},
     "execution_count": 2
    }
   ],
   "source": [
    "from NGram import NGram\n",
    "\n",
    "NGram(paper_2020_list).ngram(2).gram_freq_sorted[:10]"
   ]
  },
  {
   "cell_type": "code",
   "execution_count": 3,
   "metadata": {},
   "outputs": [
    {
     "output_type": "execute_result",
     "data": {
      "text/plain": "[&#39;Diverse and Informative Dialogue Generation with Context-Specific Commonsense Knowledge Awareness&#39;,\n &#39;Diversifying Dialogue Generation with Non-Conversational Text&#39;,\n &#39;Evidence-Aware Inferential Text Generation with Vector Quantised Variational AutoEncoder&#39;,\n &#39;Line Graph Enhanced AMR-to-Text Generation with Mix-Order Graph Attention Networks&#39;,\n &#39;Pre-train and Plug-in: Flexible Conditional Text Generation with Variational Auto-Encoders&#39;,\n &#39;R^3: Reverse, Retrieve, and Rank for Sarcasm Generation with Commonsense Knowledge&#39;,\n &#39;Review-based Question Generation with Adaptive Instance Transfer and Augmentation&#39;,\n &#39;Towards Faithful Neural Table-to-Text Generation with Content-Matching Constraints&#39;,\n &#39;COD3S: Diverse Generation with Discrete Semantic Signatures&#39;,\n &#39;Homophonic Pun Generation with Lexically Constrained Rewriting&#39;,\n &#39;Inference Strategies for Sequence Generation with Conditional Masking&#39;,\n &#39;Content Planning for Neural Story Generation with Aristotelian Rescoring&#39;,\n &#39;Controllable Story Generation with External Knowledge Using Large-Scale Language Models&#39;,\n &#39;De-biased Court’s View Generation with Causality&#39;,\n &#39;Improving Text Generation with Student-Forcing Optimal Transport&#39;,\n &#39;Knowledge-Grounded Dialogue Generation with Pre-trained Language Models&#39;,\n &#39;Language Generation with Multi-hop Reasoning on Commonsense Knowledge Graph&#39;,\n &#39;Learning a Simple and Effective Model for Multi-turn Response Generation with Auxiliary Tasks&#39;,\n &#39;Mitigating Gender Bias for Neural Dialogue Generation with Adversarial Learning&#39;,\n &#39;Partially-Aligned Data-to-Text Generation with Distant Supervision&#39;,\n &#39;PlotMachines: Outline-Conditioned Generation with Dynamic Plot State Tracking&#39;]"
     },
     "metadata": {},
     "execution_count": 3
    }
   ],
   "source": [
    "NGram(paper_2020_list,2).showTitles('generation with')"
   ]
  }
 ]
}